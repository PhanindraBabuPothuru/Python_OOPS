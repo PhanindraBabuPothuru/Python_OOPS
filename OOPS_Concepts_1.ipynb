{
 "cells": [
  {
   "cell_type": "code",
   "execution_count": 1,
   "id": "bdf92549",
   "metadata": {},
   "outputs": [
    {
     "name": "stdout",
     "output_type": "stream",
     "text": [
      "<class 'str'>\n"
     ]
    }
   ],
   "source": [
    "str='Python'\n",
    "print(type(str))"
   ]
  },
  {
   "cell_type": "code",
   "execution_count": 2,
   "id": "5adec21c",
   "metadata": {},
   "outputs": [],
   "source": [
    "class apartment:\n",
    "    def house(self):\n",
    "        print('This is Phani\\'s Apartment')"
   ]
  },
  {
   "cell_type": "code",
   "execution_count": 3,
   "id": "1d0db54b",
   "metadata": {},
   "outputs": [
    {
     "name": "stdout",
     "output_type": "stream",
     "text": [
      "This is Phani's Apartment\n"
     ]
    }
   ],
   "source": [
    "p1=apartment()\n",
    "p1.house()"
   ]
  },
  {
   "cell_type": "code",
   "execution_count": 4,
   "id": "26b6cb06",
   "metadata": {},
   "outputs": [
    {
     "name": "stdout",
     "output_type": "stream",
     "text": [
      "<class '__main__.apartment'>\n"
     ]
    }
   ],
   "source": [
    "print(type(p1))"
   ]
  },
  {
   "cell_type": "code",
   "execution_count": 5,
   "id": "00ce6699",
   "metadata": {},
   "outputs": [
    {
     "name": "stdout",
     "output_type": "stream",
     "text": [
      "This is Phani's Apartment\n"
     ]
    }
   ],
   "source": [
    "apartment.house(p1)"
   ]
  },
  {
   "cell_type": "code",
   "execution_count": 6,
   "id": "132ddb85",
   "metadata": {},
   "outputs": [],
   "source": [
    "class Mobile:\n",
    "    def __init__(self):\n",
    "        print('It is in Initialization Block')\n",
    "    def config(self):\n",
    "        print('Configuration of a Mobile')"
   ]
  },
  {
   "cell_type": "code",
   "execution_count": 10,
   "id": "bccaa2c6",
   "metadata": {},
   "outputs": [
    {
     "name": "stdout",
     "output_type": "stream",
     "text": [
      "It is in Initialization Block\n"
     ]
    }
   ],
   "source": [
    "m1=Mobile()"
   ]
  },
  {
   "cell_type": "code",
   "execution_count": 41,
   "id": "a9f19758",
   "metadata": {},
   "outputs": [],
   "source": [
    "class Mobile:\n",
    "    def __init__(self,ram,storage):\n",
    "        self.ram=ram\n",
    "        self.storage=storage\n",
    "    def config(self,Model):\n",
    "        self.Model=Model\n",
    "        print('The Model of the Mobile phone intrested is ',Model+' with details of ',self.ram,self.storage)"
   ]
  },
  {
   "cell_type": "code",
   "execution_count": 42,
   "id": "85734fe6",
   "metadata": {},
   "outputs": [],
   "source": [
    "iphone=Mobile('2 GB','128 GB')"
   ]
  },
  {
   "cell_type": "code",
   "execution_count": 43,
   "id": "40fd51a0",
   "metadata": {},
   "outputs": [
    {
     "name": "stdout",
     "output_type": "stream",
     "text": [
      "The Model of the Mobile phone intrested is  Iphone with details of  2 GB 128 GB\n"
     ]
    }
   ],
   "source": [
    "iphone.config('Iphone')"
   ]
  },
  {
   "cell_type": "code",
   "execution_count": 61,
   "id": "7b0e1df5",
   "metadata": {},
   "outputs": [],
   "source": [
    "class Seggregation:\n",
    "    def __init__(self):\n",
    "        print('This is the default view while creation of object. Please Proceed')\n",
    "    def student(self,name,enrollment):\n",
    "        self.name=name\n",
    "        self.enrollment=enrollment\n",
    "        print('Hey '+name+' ,Thank you for confirming. You\\'ve Successfully enrolled for '+enrollment+' program')\n",
    "    def employee(self,name,salary):\n",
    "              self.name=name\n",
    "              self.salary=salary\n",
    "              print('Welcome to our company '+name+ ' ,Glad you are on board and your salary is',salary)"
   ]
  },
  {
   "cell_type": "code",
   "execution_count": 62,
   "id": "253e790e",
   "metadata": {},
   "outputs": [
    {
     "name": "stdout",
     "output_type": "stream",
     "text": [
      "This is the default view while creation of object. Please Proceed\n"
     ]
    }
   ],
   "source": [
    "phani=Seggregation()"
   ]
  },
  {
   "cell_type": "code",
   "execution_count": 63,
   "id": "c382f67f",
   "metadata": {},
   "outputs": [
    {
     "name": "stdout",
     "output_type": "stream",
     "text": [
      "Hey Phani ,Thank you for confirming. You've Successfully enrolled for ECE program\n"
     ]
    }
   ],
   "source": [
    "phani.student('Phani','ECE')"
   ]
  },
  {
   "cell_type": "code",
   "execution_count": 64,
   "id": "452b7315",
   "metadata": {},
   "outputs": [
    {
     "name": "stdout",
     "output_type": "stream",
     "text": [
      "Welcome to our company Phani ,Glad you are on board and your salary is 40000\n"
     ]
    }
   ],
   "source": [
    "phani.employee('Phani','40000')"
   ]
  },
  {
   "cell_type": "code",
   "execution_count": 65,
   "id": "7b7259da",
   "metadata": {},
   "outputs": [],
   "source": [
    "class A:\n",
    "    def __init__(self):\n",
    "        self.a='abc'\n",
    "        self.b='def'\n",
    "    def update(self):\n",
    "        self.a='pqr'"
   ]
  },
  {
   "cell_type": "code",
   "execution_count": 66,
   "id": "ee99ce79",
   "metadata": {},
   "outputs": [],
   "source": [
    "a1=A()"
   ]
  },
  {
   "cell_type": "code",
   "execution_count": 69,
   "id": "59217793",
   "metadata": {},
   "outputs": [
    {
     "name": "stdout",
     "output_type": "stream",
     "text": [
      "abc\n"
     ]
    }
   ],
   "source": [
    "print(a1.a)"
   ]
  },
  {
   "cell_type": "code",
   "execution_count": 71,
   "id": "b6da8d7f",
   "metadata": {},
   "outputs": [],
   "source": [
    "a1.update()"
   ]
  },
  {
   "cell_type": "code",
   "execution_count": 72,
   "id": "6d18a190",
   "metadata": {},
   "outputs": [
    {
     "name": "stdout",
     "output_type": "stream",
     "text": [
      "pqr\n"
     ]
    }
   ],
   "source": [
    "print(a1.a)"
   ]
  },
  {
   "cell_type": "code",
   "execution_count": 90,
   "id": "8c4f7376",
   "metadata": {},
   "outputs": [],
   "source": [
    "class car:\n",
    "    wheels=4\n",
    "    def __init__(self):\n",
    "        self.model='bmw'\n",
    "        self.mil=20"
   ]
  },
  {
   "cell_type": "code",
   "execution_count": 91,
   "id": "277e0687",
   "metadata": {},
   "outputs": [],
   "source": [
    "c1=car()\n",
    "c1.model='breeza'\n",
    "c2=car()"
   ]
  },
  {
   "cell_type": "code",
   "execution_count": 92,
   "id": "10a0d036",
   "metadata": {},
   "outputs": [
    {
     "name": "stdout",
     "output_type": "stream",
     "text": [
      "breeza 20 4\n",
      "bmw 20 4\n"
     ]
    }
   ],
   "source": [
    "print(c1.model,c1.mil,c1.wheels)\n",
    "print(c2.model,c2.mil,c2.wheels)"
   ]
  },
  {
   "cell_type": "code",
   "execution_count": 93,
   "id": "41336b8a",
   "metadata": {},
   "outputs": [],
   "source": [
    "car.wheels=5"
   ]
  },
  {
   "cell_type": "code",
   "execution_count": 94,
   "id": "893df04d",
   "metadata": {},
   "outputs": [
    {
     "name": "stdout",
     "output_type": "stream",
     "text": [
      "breeza 20 5\n",
      "bmw 20 5\n"
     ]
    }
   ],
   "source": [
    "print(c1.model,c1.mil,c1.wheels)\n",
    "print(c2.model,c2.mil,c2.wheels)"
   ]
  },
  {
   "cell_type": "code",
   "execution_count": 95,
   "id": "793c4a23",
   "metadata": {},
   "outputs": [],
   "source": [
    "class Student:\n",
    "    def __init__(self,m1,m2,m3):\n",
    "        self.m1=m1\n",
    "        self.m2=m2\n",
    "        self.m3=m3\n",
    "    def avg(self):\n",
    "        return (self.m1+self.m2+self.m3)/3\n",
    "    def get__m1(self):\n",
    "        return self.m1\n",
    "    def get__m2(self):\n",
    "        return self.m2\n",
    "    def get__m3(self):\n",
    "        return self.m3\n",
    "    def set__m1(self,m1):\n",
    "        self.m1=m1\n",
    "    def set__m2(self,m2):\n",
    "        self.m2=m2\n",
    "    def set__m3(self,m3):\n",
    "        self.m3=m3"
   ]
  },
  {
   "cell_type": "code",
   "execution_count": 97,
   "id": "50f90e26",
   "metadata": {},
   "outputs": [],
   "source": [
    "s1=Student(20,30,25)"
   ]
  },
  {
   "cell_type": "code",
   "execution_count": 98,
   "id": "6dfafd8d",
   "metadata": {},
   "outputs": [
    {
     "data": {
      "text/plain": [
       "25.0"
      ]
     },
     "execution_count": 98,
     "metadata": {},
     "output_type": "execute_result"
    }
   ],
   "source": [
    "s1.avg()"
   ]
  },
  {
   "cell_type": "code",
   "execution_count": 99,
   "id": "42854d71",
   "metadata": {},
   "outputs": [
    {
     "data": {
      "text/plain": [
       "30"
      ]
     },
     "execution_count": 99,
     "metadata": {},
     "output_type": "execute_result"
    }
   ],
   "source": [
    "s1.get__m2()"
   ]
  },
  {
   "cell_type": "code",
   "execution_count": 100,
   "id": "1105e617",
   "metadata": {},
   "outputs": [],
   "source": [
    "s1.set__m2(35)"
   ]
  },
  {
   "cell_type": "code",
   "execution_count": 101,
   "id": "84780c58",
   "metadata": {},
   "outputs": [
    {
     "data": {
      "text/plain": [
       "35"
      ]
     },
     "execution_count": 101,
     "metadata": {},
     "output_type": "execute_result"
    }
   ],
   "source": [
    "s1.get__m2()"
   ]
  },
  {
   "cell_type": "code",
   "execution_count": 151,
   "id": "5c612d97",
   "metadata": {},
   "outputs": [],
   "source": [
    "class Student():\n",
    "    total_students=0\n",
    "    def __init__(self,name,age):\n",
    "        self.name=name\n",
    "        self.age=age\n",
    "        Student.total_students+=1\n",
    "    def update(self):\n",
    "        return self.name,self.age"
   ]
  },
  {
   "cell_type": "code",
   "execution_count": 152,
   "id": "0efdac38",
   "metadata": {},
   "outputs": [],
   "source": [
    "s1=Student('Phani',27)"
   ]
  },
  {
   "cell_type": "code",
   "execution_count": 153,
   "id": "4f17423e",
   "metadata": {},
   "outputs": [
    {
     "data": {
      "text/plain": [
       "('Phani', 27)"
      ]
     },
     "execution_count": 153,
     "metadata": {},
     "output_type": "execute_result"
    }
   ],
   "source": [
    "s1.update()"
   ]
  },
  {
   "cell_type": "code",
   "execution_count": 154,
   "id": "a2962080",
   "metadata": {},
   "outputs": [],
   "source": [
    "s2=Student('Cherry',28)"
   ]
  },
  {
   "cell_type": "code",
   "execution_count": 155,
   "id": "6ee7e1c2",
   "metadata": {},
   "outputs": [
    {
     "data": {
      "text/plain": [
       "('Cherry', 28)"
      ]
     },
     "execution_count": 155,
     "metadata": {},
     "output_type": "execute_result"
    }
   ],
   "source": [
    "s2.update()"
   ]
  },
  {
   "cell_type": "code",
   "execution_count": 156,
   "id": "5c0ee51d",
   "metadata": {},
   "outputs": [
    {
     "data": {
      "text/plain": [
       "2"
      ]
     },
     "execution_count": 156,
     "metadata": {},
     "output_type": "execute_result"
    }
   ],
   "source": [
    "Student.total_students"
   ]
  },
  {
   "cell_type": "code",
   "execution_count": null,
   "id": "f07ec750",
   "metadata": {},
   "outputs": [],
   "source": []
  },
  {
   "cell_type": "code",
   "execution_count": null,
   "id": "3d5fac06",
   "metadata": {},
   "outputs": [],
   "source": []
  }
 ],
 "metadata": {
  "kernelspec": {
   "display_name": "Python 3 (ipykernel)",
   "language": "python",
   "name": "python3"
  },
  "language_info": {
   "codemirror_mode": {
    "name": "ipython",
    "version": 3
   },
   "file_extension": ".py",
   "mimetype": "text/x-python",
   "name": "python",
   "nbconvert_exporter": "python",
   "pygments_lexer": "ipython3",
   "version": "3.10.9"
  }
 },
 "nbformat": 4,
 "nbformat_minor": 5
}
