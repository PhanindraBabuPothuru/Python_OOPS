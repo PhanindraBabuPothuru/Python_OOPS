{
 "cells": [
  {
   "cell_type": "code",
   "execution_count": 6,
   "id": "9b419e59",
   "metadata": {},
   "outputs": [
    {
     "data": {
      "text/plain": [
       "6"
      ]
     },
     "execution_count": 6,
     "metadata": {},
     "output_type": "execute_result"
    }
   ],
   "source": [
    "def factor(num):\n",
    "    mul=1\n",
    "    for i in range(1,num+1):\n",
    "        mul=mul*i\n",
    "    return mul\n",
    "factor(3)"
   ]
  },
  {
   "cell_type": "code",
   "execution_count": 8,
   "id": "5b66fd38",
   "metadata": {},
   "outputs": [],
   "source": [
    "def check_string(value):\n",
    "    if 's' in value:\n",
    "        print('S is associated')\n",
    "    else:\n",
    "        print('s is not present')"
   ]
  },
  {
   "cell_type": "code",
   "execution_count": 9,
   "id": "f1aff366",
   "metadata": {},
   "outputs": [
    {
     "name": "stdout",
     "output_type": "stream",
     "text": [
      "S is associated\n"
     ]
    }
   ],
   "source": [
    "check_string('Phanis')"
   ]
  },
  {
   "cell_type": "code",
   "execution_count": 10,
   "id": "694b2493",
   "metadata": {},
   "outputs": [
    {
     "name": "stdout",
     "output_type": "stream",
     "text": [
      "s is not present\n"
     ]
    }
   ],
   "source": [
    "check_string('Phani')"
   ]
  },
  {
   "cell_type": "code",
   "execution_count": 11,
   "id": "5dfd46ec",
   "metadata": {},
   "outputs": [],
   "source": [
    "class Student:\n",
    "    def fun1(self,value):\n",
    "        self.value=value\n",
    "    def message(self):\n",
    "        print(self.value)"
   ]
  },
  {
   "cell_type": "code",
   "execution_count": 13,
   "id": "d16bbd99",
   "metadata": {},
   "outputs": [
    {
     "name": "stdout",
     "output_type": "stream",
     "text": [
      "Phani\n"
     ]
    }
   ],
   "source": [
    "s1=Student()\n",
    "s1.fun1('Phani')\n",
    "s1.message()"
   ]
  },
  {
   "cell_type": "code",
   "execution_count": 21,
   "id": "b5940d74",
   "metadata": {},
   "outputs": [
    {
     "name": "stdout",
     "output_type": "stream",
     "text": [
      "20\n"
     ]
    }
   ],
   "source": [
    "double_num=lambda n : n*2\n",
    "print(double_num(10))"
   ]
  },
  {
   "cell_type": "code",
   "execution_count": 25,
   "id": "43d9babe",
   "metadata": {},
   "outputs": [],
   "source": [
    "def ispolindromecheck(value):\n",
    "    if value[::-1]==value:\n",
    "        print('value is polindrome')\n",
    "    else:\n",
    "        print('not polindrome')"
   ]
  },
  {
   "cell_type": "code",
   "execution_count": 26,
   "id": "1d51a55a",
   "metadata": {},
   "outputs": [
    {
     "name": "stdout",
     "output_type": "stream",
     "text": [
      "value is polindrome\n"
     ]
    }
   ],
   "source": [
    "ispolindromecheck('pip')"
   ]
  },
  {
   "cell_type": "code",
   "execution_count": 27,
   "id": "638f6f67",
   "metadata": {},
   "outputs": [
    {
     "name": "stdout",
     "output_type": "stream",
     "text": [
      "not polindrome\n"
     ]
    }
   ],
   "source": [
    "ispolindromecheck('Phani')"
   ]
  },
  {
   "cell_type": "code",
   "execution_count": 28,
   "id": "c3302f5b",
   "metadata": {},
   "outputs": [],
   "source": [
    "class Super:\n",
    "    def fun1(self,val):\n",
    "        print(val)"
   ]
  },
  {
   "cell_type": "code",
   "execution_count": 30,
   "id": "02ea4f50",
   "metadata": {},
   "outputs": [
    {
     "name": "stdout",
     "output_type": "stream",
     "text": [
      "This is function 1 in the super class\n"
     ]
    }
   ],
   "source": [
    "s1=Super()\n",
    "s1.fun1(\"This is function 1 in the super class\")"
   ]
  },
  {
   "cell_type": "code",
   "execution_count": 33,
   "id": "92804261",
   "metadata": {},
   "outputs": [
    {
     "name": "stdout",
     "output_type": "stream",
     "text": [
      "This is function 1 in the Modified super class\n"
     ]
    }
   ],
   "source": [
    "class Super:\n",
    "    def fun1(self):\n",
    "        print(\"This is function 1 in the super class\")\n",
    "class Modified_Super(Super):\n",
    "    def fun1(self):\n",
    "        print(\"This is function 1 in the Modified super class\")\n",
    "    def fun2(self):\n",
    "        print(\"This is function 2 in the Modified super class\")\n",
    "\n",
    "        \n",
    "obj=Modified_Super()\n",
    "obj.fun1()"
   ]
  },
  {
   "cell_type": "code",
   "execution_count": 38,
   "id": "fa014ed4",
   "metadata": {},
   "outputs": [
    {
     "ename": "TypeError",
     "evalue": "'Value' object is not callable",
     "output_type": "error",
     "traceback": [
      "\u001b[1;31m---------------------------------------------------------------------------\u001b[0m",
      "\u001b[1;31mTypeError\u001b[0m                                 Traceback (most recent call last)",
      "Cell \u001b[1;32mIn[38], line 7\u001b[0m\n\u001b[0;32m      5\u001b[0m         \u001b[38;5;28mprint\u001b[39m(\u001b[38;5;28mself\u001b[39m\u001b[38;5;241m.\u001b[39mvalue1,\u001b[38;5;28mself\u001b[39m\u001b[38;5;241m.\u001b[39mvalue2)\n\u001b[0;32m      6\u001b[0m helloObj\u001b[38;5;241m=\u001b[39mValue()\n\u001b[1;32m----> 7\u001b[0m \u001b[43mhelloObj\u001b[49m\u001b[43m(\u001b[49m\u001b[38;5;241;43m2\u001b[39;49m\u001b[43m)\u001b[49m\n\u001b[0;32m      8\u001b[0m helloObj(\u001b[38;5;241m2\u001b[39m,\u001b[38;5;241m3\u001b[39m)\n",
      "\u001b[1;31mTypeError\u001b[0m: 'Value' object is not callable"
     ]
    }
   ],
   "source": [
    "class Value:\n",
    "    def hello(self,value1):\n",
    "        print(self.value1)\n",
    "    def hello(self,value1,value2):\n",
    "        print(self.value1,self.value2)\n",
    "helloObj=Value()\n",
    "helloObj(2)\n",
    "helloObj(2,3)"
   ]
  },
  {
   "cell_type": "code",
   "execution_count": 40,
   "id": "b9c1408e",
   "metadata": {},
   "outputs": [
    {
     "data": {
      "text/plain": [
       "10"
      ]
     },
     "execution_count": 40,
     "metadata": {},
     "output_type": "execute_result"
    }
   ],
   "source": [
    "def sum(*args):\n",
    "    sum=0\n",
    "    for i in args:\n",
    "        sum+=i\n",
    "    return sum\n",
    "sum(5,3,2)"
   ]
  },
  {
   "cell_type": "code",
   "execution_count": 44,
   "id": "d197bde0",
   "metadata": {},
   "outputs": [
    {
     "name": "stdout",
     "output_type": "stream",
     "text": [
      "10\n"
     ]
    },
    {
     "data": {
      "text/plain": [
       "20"
      ]
     },
     "execution_count": 44,
     "metadata": {},
     "output_type": "execute_result"
    }
   ],
   "source": [
    "class Encapsulation:\n",
    "    def __init__(self):\n",
    "        self.a=10\n",
    "    def value(self):\n",
    "        return self.a\n",
    "    def setvalue(self,val):\n",
    "        self.a=val\n",
    "\n",
    "e1=Encapsulation()\n",
    "print(e1.value())\n",
    "e1.setvalue(20)\n",
    "e1.value()"
   ]
  },
  {
   "cell_type": "code",
   "execution_count": null,
   "id": "d6b05b31",
   "metadata": {},
   "outputs": [],
   "source": []
  }
 ],
 "metadata": {
  "kernelspec": {
   "display_name": "Python 3 (ipykernel)",
   "language": "python",
   "name": "python3"
  },
  "language_info": {
   "codemirror_mode": {
    "name": "ipython",
    "version": 3
   },
   "file_extension": ".py",
   "mimetype": "text/x-python",
   "name": "python",
   "nbconvert_exporter": "python",
   "pygments_lexer": "ipython3",
   "version": "3.10.9"
  }
 },
 "nbformat": 4,
 "nbformat_minor": 5
}
