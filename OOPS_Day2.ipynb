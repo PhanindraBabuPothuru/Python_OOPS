{
 "cells": [
  {
   "cell_type": "code",
   "execution_count": 1,
   "id": "fe29b1cc",
   "metadata": {},
   "outputs": [],
   "source": [
    "class Student:\n",
    "    #Class Variable\n",
    "    school='Nirmala Concept School'\n",
    "    def __init__(self,m1,m2,m3):\n",
    "        #Instance Variable\n",
    "        self.m1=m1\n",
    "        self.m2=m2\n",
    "        self.m3=m3\n",
    "    #Instance Method\n",
    "    def avg(self):\n",
    "        return (self.m1+self.m2+self.m3)/3\n",
    "    \n",
    "    @classmethod\n",
    "    def get_school(cls):\n",
    "        return cls.school\n",
    "    @staticmethod\n",
    "    def info():\n",
    "        return('This is a static Method')"
   ]
  },
  {
   "cell_type": "code",
   "execution_count": 2,
   "id": "397ea05f",
   "metadata": {},
   "outputs": [],
   "source": [
    "s1=Student(10,20,30)"
   ]
  },
  {
   "cell_type": "code",
   "execution_count": 3,
   "id": "42654b25",
   "metadata": {},
   "outputs": [
    {
     "data": {
      "text/plain": [
       "20.0"
      ]
     },
     "execution_count": 3,
     "metadata": {},
     "output_type": "execute_result"
    }
   ],
   "source": [
    "s1.avg()"
   ]
  },
  {
   "cell_type": "code",
   "execution_count": 4,
   "id": "da3c76c5",
   "metadata": {},
   "outputs": [
    {
     "data": {
      "text/plain": [
       "'Nirmala Concept School'"
      ]
     },
     "execution_count": 4,
     "metadata": {},
     "output_type": "execute_result"
    }
   ],
   "source": [
    "s1.get_school()"
   ]
  },
  {
   "cell_type": "code",
   "execution_count": 5,
   "id": "9af58ace",
   "metadata": {},
   "outputs": [
    {
     "data": {
      "text/plain": [
       "'This is a static Method'"
      ]
     },
     "execution_count": 5,
     "metadata": {},
     "output_type": "execute_result"
    }
   ],
   "source": [
    "s1.info()"
   ]
  },
  {
   "cell_type": "markdown",
   "id": "225d781a",
   "metadata": {},
   "source": [
    "Inheritence"
   ]
  },
  {
   "cell_type": "code",
   "execution_count": 25,
   "id": "9abd8dda",
   "metadata": {},
   "outputs": [],
   "source": [
    "class father:\n",
    "    def name(self):\n",
    "        print('this is the name of our father')\n",
    "    def age(self):\n",
    "        print('this is the age of our father')\n",
    "class son(father):\n",
    "    def name1(self):\n",
    "        print('this is the name of me')\n",
    "    def age1(self):\n",
    "        print('this is the age of me')\n",
    "class grandson(son):\n",
    "    def name(self):\n",
    "        print('this is the name of my son')\n",
    "    def age(self):\n",
    "        print('this is the age of my son')\n"
   ]
  },
  {
   "cell_type": "code",
   "execution_count": 26,
   "id": "ffa8948a",
   "metadata": {},
   "outputs": [
    {
     "name": "stdout",
     "output_type": "stream",
     "text": [
      "this is the age of my son\n",
      "this is the age of me\n"
     ]
    }
   ],
   "source": [
    "f1=grandson()\n",
    "f1.age()\n",
    "f1.age1()"
   ]
  },
  {
   "cell_type": "code",
   "execution_count": null,
   "id": "b0708411",
   "metadata": {},
   "outputs": [],
   "source": []
  },
  {
   "cell_type": "markdown",
   "id": "c4389734",
   "metadata": {},
   "source": [
    "Abstraction"
   ]
  },
  {
   "cell_type": "code",
   "execution_count": 36,
   "id": "1958c490",
   "metadata": {},
   "outputs": [],
   "source": [
    "class vehicle:\n",
    "    def __init__(self,speed,fuel):\n",
    "        self.speed=speed\n",
    "        self.fuel=fuel\n",
    "    def move(self):\n",
    "        raise NotImplementedError('Subclass must be implemented')\n",
    "\n",
    "class Car(vehicle):\n",
    "    def __init__(self,speed,fuel):\n",
    "        super().__init__(speed,fuel)\n",
    "        self.wheels=5\n",
    "    def move(self):\n",
    "        print(f'Car is moving at {self.speed} km/h on the road')\n",
    "class Plan(vehicle):\n",
    "    def __init__(self,speed,fuel):\n",
    "        super().__init__(speed,fuel)\n",
    "        self.wheels=7\n",
    "        self.move()\n",
    "    def move(self):\n",
    "        print(f'Plane is going at a {self.speed} of km/hr on sky')"
   ]
  },
  {
   "cell_type": "code",
   "execution_count": 37,
   "id": "cf7f1307",
   "metadata": {},
   "outputs": [
    {
     "name": "stdout",
     "output_type": "stream",
     "text": [
      "Plane is going at a 800 of km/hr on sky\n"
     ]
    }
   ],
   "source": [
    "pl=Plan(800,'white petrol')"
   ]
  },
  {
   "cell_type": "markdown",
   "id": "15ec4988",
   "metadata": {},
   "source": [
    "Encapsulation"
   ]
  },
  {
   "cell_type": "code",
   "execution_count": 16,
   "id": "3de39713",
   "metadata": {},
   "outputs": [],
   "source": [
    "class Employee:\n",
    "    def __init__(self,name,project,salary):\n",
    "        self.name=name\n",
    "        self._project=project\n",
    "        self.__salary=salary\n",
    "    def show(self):\n",
    "        print(self.name,self._project,self.__salary)\n",
    "    def getSalary(self):\n",
    "        return self.__salary\n",
    "emp1=Employee('phani','Python',40000)"
   ]
  },
  {
   "cell_type": "code",
   "execution_count": 17,
   "id": "b86fb685",
   "metadata": {},
   "outputs": [
    {
     "ename": "AttributeError",
     "evalue": "'Employee' object has no attribute '__salary'",
     "output_type": "error",
     "traceback": [
      "\u001b[1;31m---------------------------------------------------------------------------\u001b[0m",
      "\u001b[1;31mAttributeError\u001b[0m                            Traceback (most recent call last)",
      "Cell \u001b[1;32mIn[17], line 1\u001b[0m\n\u001b[1;32m----> 1\u001b[0m \u001b[43memp1\u001b[49m\u001b[38;5;241;43m.\u001b[39;49m\u001b[43m__salary\u001b[49m\n",
      "\u001b[1;31mAttributeError\u001b[0m: 'Employee' object has no attribute '__salary'"
     ]
    }
   ],
   "source": [
    "emp1.__salary "
   ]
  },
  {
   "cell_type": "code",
   "execution_count": 18,
   "id": "2882234e",
   "metadata": {},
   "outputs": [
    {
     "data": {
      "text/plain": [
       "'Python'"
      ]
     },
     "execution_count": 18,
     "metadata": {},
     "output_type": "execute_result"
    }
   ],
   "source": [
    "emp1._project"
   ]
  },
  {
   "cell_type": "code",
   "execution_count": null,
   "id": "c22bed1e",
   "metadata": {},
   "outputs": [],
   "source": []
  }
 ],
 "metadata": {
  "kernelspec": {
   "display_name": "Python 3 (ipykernel)",
   "language": "python",
   "name": "python3"
  },
  "language_info": {
   "codemirror_mode": {
    "name": "ipython",
    "version": 3
   },
   "file_extension": ".py",
   "mimetype": "text/x-python",
   "name": "python",
   "nbconvert_exporter": "python",
   "pygments_lexer": "ipython3",
   "version": "3.10.9"
  }
 },
 "nbformat": 4,
 "nbformat_minor": 5
}
