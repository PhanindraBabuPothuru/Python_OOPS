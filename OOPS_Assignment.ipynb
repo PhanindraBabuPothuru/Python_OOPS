{
 "cells": [
  {
   "cell_type": "markdown",
   "id": "5a23dce8",
   "metadata": {},
   "source": [
    "Question :1\n",
    "\n",
    "Write a Python program to demonstrate multiple inheritance.\n",
    "1. Employee class has 3 data members EmployeeID, Gender (String), Salary and\n",
    "PerformanceRating(Out of 5) of type int. It has a get() function to get these details from\n",
    "the user.\n",
    "2. JoiningDetail class has a data member DateOfJoining of type Date and a function\n",
    "getDoJ to get the Date of joining of employees.\n",
    "3. Information Class uses the marks from Employee class and the DateOfJoining date\n",
    "from the JoiningDetail class to calculate the top 3 Employees based on their Ratings\n",
    "and then Display, using readData, all the details on these employees in Ascending\n",
    "order of their Date Of Joining."
   ]
  },
  {
   "cell_type": "code",
   "execution_count": 144,
   "id": "ade0d474",
   "metadata": {},
   "outputs": [
    {
     "name": "stdout",
     "output_type": "stream",
     "text": [
      "id 2 : 1995-09-04\n",
      "id 3 : 2016-09-20\n",
      "id 1 : 2023-08-21\n"
     ]
    }
   ],
   "source": [
    "import datetime as dt\n",
    "class Employee:\n",
    "    def __init__(self, id: str, gender: str, salary: int, perfomance_rating: int):\n",
    "        self.id, self.gender, self.salary, self.perfomance_rating = id, gender, salary, perfomance_rating\n",
    "    \n",
    "    def get_id(self):\n",
    "        return self.id\n",
    "    \n",
    "    def get_gender(self):\n",
    "        return self.gender\n",
    "    \n",
    "    def get_salary(self):\n",
    "        return self.salary\n",
    "    \n",
    "    def get_perf_rat(self):\n",
    "        return self.perfomance_rating    \n",
    "\n",
    "\n",
    "class JoiningDetail(Employee):\n",
    "    def __init__(self, id: str, gender: str, salary: int, perfomance_rating: int, date: dt.date):\n",
    "        super().__init__(id, gender, salary, perfomance_rating) #Calling Previous Method\n",
    "        self.date = date\n",
    "    \n",
    "    def get_DoJ(self):\n",
    "        return self.date\n",
    "    \n",
    "    def __str__(self):\n",
    "        return f\"id {self.id} : {self.date}\"\n",
    "\n",
    "\n",
    "class Information:\n",
    "    def __init__(self, emp_list):\n",
    "        self.emp_list = emp_list\n",
    "    \n",
    "    def info(self):\n",
    "        N = len(self.emp_list)\n",
    "        for i in range(N-1):\n",
    "            for j in range(N-i-1):\n",
    "                if self.emp_list[j].get_perf_rat() > self.emp_list[j+1].get_perf_rat():\n",
    "                    self.emp_list[j], self.emp_list[j+1] = self.emp_list[j+1], self.emp_list[j]\n",
    "        \n",
    "        for i in range(3):\n",
    "            for j in range(2 - i):\n",
    "                if self.emp_list[j].get_DoJ() > self.emp_list[j + 1].get_DoJ():\n",
    "                    self.emp_list[j], self.emp_list[j+1] = self.emp_list[j+1], self.emp_list[j]\n",
    "        \n",
    "        return '\\n'.join(list(map(str, self.emp_list[:3])))\n",
    "\n",
    "\n",
    "list_Values = [('1', 'm', 10, 5, dt.date(2000, 10, 30)), ('2', 'f', 5, 3, dt.date(2001, 10, 12)), ('3', 'm', 100, 10, dt.date(1998, 10, 1))]\n",
    "result = Information([JoiningDetail(*i) for i in temp])\n",
    "print(result.info())\n"
   ]
  },
  {
   "cell_type": "markdown",
   "id": "38fdf09b",
   "metadata": {},
   "source": [
    "Question : 2\n",
    "\n",
    "Write a Python program to demonstrate Polymorphism.\n",
    "1. Class Vehicle with a parameterized function Fare, that takes input value as fare and\n",
    "returns it to calling Objects.\n",
    "2. Create five separate variables Bus, Car, Train, Truck and Ship that call the Fare\n",
    "function.\n",
    "3. Use a third variable TotalFare to store the sum of fare for each Vehicle Type.\n",
    "4. Print the TotalFare."
   ]
  },
  {
   "cell_type": "code",
   "execution_count": 85,
   "id": "d22183df",
   "metadata": {},
   "outputs": [
    {
     "name": "stdout",
     "output_type": "stream",
     "text": [
      "Sum of fares for all the vehicles :  1250\n"
     ]
    }
   ],
   "source": [
    "class Vehicle:\n",
    "    Total_Fare=0\n",
    "    def Fare(self,input_Value):\n",
    "        Vehicle.Total_Fare+=input_Value\n",
    "        self.input_Value=input_Value\n",
    "        return self.input_Value\n",
    "\n",
    "bus=Vehicle()\n",
    "bus.Fare(200)\n",
    "car=Vehicle()\n",
    "car.Fare(400)\n",
    "Train=Vehicle()\n",
    "Train.Fare(100)\n",
    "Truck=Vehicle()\n",
    "Truck.Fare(300)\n",
    "ship=Vehicle()\n",
    "ship.Fare(250)\n",
    "#We can use get method as well in order to fetch the fare and individual entities for required values.Here we are printing total fare\n",
    "print('Sum of fares for all the vehicles : ' ,Vehicle.Total_Fare)"
   ]
  },
  {
   "cell_type": "markdown",
   "id": "85749741",
   "metadata": {},
   "source": [
    "Question : 3\n",
    "\n",
    "Consider an ongoing test cricket series. Following are the names of the players and their\n",
    "scores in the test1 and 2.\n",
    "Test Match 1 :\n",
    "Dhoni : 56 , Balaji : 94\n",
    "Test Match 2 :\n",
    "Balaji : 80 , Dravid : 105\n",
    "Calculate the highest number of runs scored by an individual cricketer in both of the matches.\n",
    "Create a python function Max_Score (M) that reads a dictionary M that recognizes the player\n",
    "with the highest total score. This function will return ( Top player , Total Score ) . You can\n",
    "consider the Top player as String who is the highest scorer and Top score as Integer .\n",
    "Input : Max_Score({‘test1’:{‘Dhoni’:56, ‘Balaji : 85}, ‘test2’:{‘Dhoni’ 87, ‘Balaji’’:200}})\n",
    "Output : (‘Balaji ‘ , 200)"
   ]
  },
  {
   "cell_type": "code",
   "execution_count": 84,
   "id": "3356e918",
   "metadata": {},
   "outputs": [
    {
     "name": "stdout",
     "output_type": "stream",
     "text": [
      "('Balaji', 285)\n"
     ]
    }
   ],
   "source": [
    "Dict1={'test1': {'Dhoni': 56, \"Balaji\": 85}, 'test2': {'Dhoni': 87, 'Balaji': 200}}\n",
    "def Score(value):\n",
    "    Dict2={}\n",
    "    for i in Dict1.keys():\n",
    "        for j in Dict1[i].keys():\n",
    "            if j in Dict2.keys():\n",
    "                Dict2[j]+=Dict1[i][j]\n",
    "            else:\n",
    "                Dict2[j]=Dict1[i][j]\n",
    "    maxtotal = 0\n",
    "    for n in Dict2.keys():\n",
    "        if Dict2[n] > maxtotal:\n",
    "            maxname = n\n",
    "            maxtotal = Dict2[n]\n",
    "    return maxname,maxtotal\n",
    "\n",
    "print(Score(Dict1))"
   ]
  },
  {
   "cell_type": "markdown",
   "id": "8b60e444",
   "metadata": {},
   "source": [
    "Question : 4\n",
    "    \n",
    "Create a simple Card game in which there are 8 cards which are randomly chosen from adeck. \n",
    "The first card is shown face up. \n",
    "The game asks the player to predict whether the next cardin the selection will have a higher or lower value than the currently showing card.\n",
    "For example, say the card that’s shown is a 3. The player chooses “higher,” and the next card is shown. \n",
    "If that card has a higher value, the player is correct. \n",
    "In this example, if the player had chosen “lower,” they would have been incorrect. \n",
    "If the player guesses correctly, they get 20 points. If they choose incorrectly, they lose 15 points. \n",
    "If the next card to be turned over has the same value as the previous card, the player is incorrect."
   ]
  },
  {
   "cell_type": "code",
   "execution_count": 37,
   "id": "56ce3911",
   "metadata": {},
   "outputs": [
    {
     "name": "stdout",
     "output_type": "stream",
     "text": [
      "Enter your choice Higher or lower : higher\n",
      "Current Value : 1\n",
      "Picked from Deck Value : 2\n",
      "Current Score: 0\n",
      "Enter your choice Higher or lower : higher\n",
      "Current Value : 2\n",
      "Picked from Deck Value : 9\n",
      "Current Score: 20\n",
      "Enter your choice Higher or lower : lower\n",
      "Current Value : 9\n",
      "Picked from Deck Value : 4\n",
      "Current Score: 40\n",
      "Enter your choice Higher or lower : higher\n",
      "Current Value : 4\n",
      "Picked from Deck Value : 9\n",
      "Current Score: 60\n",
      "Enter your choice Higher or lower : lower\n",
      "Current Value : 9\n",
      "Picked from Deck Value : 5\n",
      "Current Score: 80\n",
      "Enter your choice Higher or lower : higher\n",
      "Current Value : 5\n",
      "Picked from Deck Value : 3\n",
      "Current Score: 100\n",
      "Enter your choice Higher or lower : higher\n",
      "Current Value : 3\n",
      "Picked from Deck Value : 1\n",
      "Current Score: 85\n",
      "Final Score: 70\n"
     ]
    }
   ],
   "source": [
    "import random\n",
    "class Card_Game:\n",
    "    points=0\n",
    "    initial_value=random.randint(1,10)#Picking up the First Card\n",
    "    def card_selection(self,value):\n",
    "        self.value=value\n",
    "        outputValue = random.randint(1,10)\n",
    "        print('Current Value : '+str(Card_Game.initial_value))\n",
    "        print('Picked from Deck Value : '+str(outputValue))\n",
    "        print('Current Score: '+str(Card_Game.points))\n",
    "        if Card_Game.initial_value<outputValue:\n",
    "            if self.value=='higher':\n",
    "                Card_Game.points+=20\n",
    "                Card_Game.initial_value=outputValue\n",
    "            else:\n",
    "                Card_Game.points-=15\n",
    "                Card_Game.initial_value=outputValue\n",
    "        elif Card_Game.initial_value>outputValue:\n",
    "            if self.value=='higher':\n",
    "                Card_Game.points-=15\n",
    "                Card_Game.initial_value=outputValue\n",
    "            else:\n",
    "                Card_Game.points+=20\n",
    "                Card_Game.initial_value=outputValue\n",
    "        elif Card_Game.initial_value==outputValue:\n",
    "            print('Player is Incorrect')\n",
    "        else:\n",
    "            print('Invalid Input')\n",
    "    def get_Final_Score(self):\n",
    "        return Card_Game.points\n",
    "    \n",
    "obj1=Card_Game()\n",
    "for i in range(1,8):\n",
    "    val=input('Enter your choice Higher or lower : ' ).lower()\n",
    "    obj1.card_selection(val)   \n",
    "print('Final Score: '+ str(obj1.get_Final_Score()))"
   ]
  },
  {
   "cell_type": "raw",
   "id": "6d849e60",
   "metadata": {},
   "source": [
    "Question : 5\n",
    "    \n",
    "Create an empty dictionary called Car_0 . Then fill the dictionary with Keys : color , speed, X_position and Y_position.\n",
    "car_0 = {'x_position': 10, 'y_position': 72, 'speed': 'medium'} .\n",
    "a) If the speed is slow the coordinates of the X_pos get incremented by 2.\n",
    "b) If the speed is Medium the coordinates of the X_pos gets incremented by 9\n",
    "c) Now if the speed is Fast the coordinates of the X_pos gets incremented by 22.\n",
    "Print the modified dictionary."
   ]
  },
  {
   "cell_type": "code",
   "execution_count": 7,
   "id": "a8b68b0e",
   "metadata": {},
   "outputs": [
    {
     "name": "stdout",
     "output_type": "stream",
     "text": [
      "Enter the Prompt among \"slow\", \"medium\" or \"fast\" : slow\n",
      "{'x_position': 8, 'y_position': 72, 'speed': 'medium'}\n"
     ]
    }
   ],
   "source": [
    "car_0 = {'x_position': 10, 'y_position': 72, 'speed': 'medium'}\n",
    "def Speed(speed_input):\n",
    "    if speed_input=='slow':\n",
    "        car_0['x_position']-=2\n",
    "        print(car_0)\n",
    "    elif speed_input =='medium':\n",
    "        car_0['x_position']+=9\n",
    "        print(car_0)\n",
    "    elif speed_input =='fast':\n",
    "        car_0['x_position']+=22\n",
    "        print(car_0)\n",
    "    else:\n",
    "        print(\"given an invalid input. Please choose among 'slow','medium','fast'\")\n",
    " \n",
    "input_speed=input('Enter the Prompt among \"slow\", \"medium\" or \"fast\" : ').lower()\n",
    "Speed(input_speed)"
   ]
  },
  {
   "cell_type": "code",
   "execution_count": 17,
   "id": "f27df864",
   "metadata": {},
   "outputs": [
    {
     "name": "stdout",
     "output_type": "stream",
     "text": [
      "Enter the Prompt among \"slow\", \"medium\" or \"fast\" : slow\n",
      "{'x_position': 48, 'y_position': 72, 'speed': 'medium'}\n"
     ]
    }
   ],
   "source": [
    "#To Update the Value and change the value till its execution\n",
    "class Car_Speed:\n",
    "    car_0 = {'x_position': 10, 'y_position': 72, 'speed': 'medium'}\n",
    "    def __init__(self,speed_input):\n",
    "        self.speed_input=speed_input\n",
    "        if self.speed_input=='slow':\n",
    "            car_0['x_position']-=2\n",
    "            Car_Speed.car_0=car_0\n",
    "            print(car_0)\n",
    "        elif self.speed_input =='medium':\n",
    "            car_0['x_position']+=9\n",
    "            Car_Speed.car_0=car_0\n",
    "            print(Car_0)\n",
    "        elif self.speed_input =='fast':\n",
    "            car_0['x_position']+=22\n",
    "            Car_Speed.car_0=car_0\n",
    "            print(car_0)\n",
    "        else:\n",
    "            print(\"given an invalid input. Please choose among 'slow','medium','fast'\")\n",
    " \n",
    "input_speed=input('Enter the Prompt among \"slow\", \"medium\" or \"fast\" : ').lower()\n",
    "obj1=Car_Speed(input_speed)"
   ]
  },
  {
   "cell_type": "markdown",
   "id": "7eb6211c",
   "metadata": {},
   "source": [
    "Question : 6\n",
    "    \n",
    "Show a basic implementation of abstraction in python using the abstract classes.\n",
    "1. Create an abstract class in python.\n",
    "2. Implement abstraction with the other classes and base class as abstract class."
   ]
  },
  {
   "cell_type": "code",
   "execution_count": 136,
   "id": "a86d43e0",
   "metadata": {},
   "outputs": [
    {
     "name": "stdout",
     "output_type": "stream",
     "text": [
      "Bike is Travelling at 50 km/h in the road\n",
      "Car is moving at 120 km/h on the road with Diesel\n"
     ]
    }
   ],
   "source": [
    "class Vehicle:\n",
    "    def __init__(self,speed,fuel):\n",
    "        self.speed = speed\n",
    "        self.fuel = fuel\n",
    "    def move(self):\n",
    "        raise NotImplementedError('Subclass must be implement this method')\n",
    "\n",
    "class Car(Vehicle):\n",
    "    def __init__(self,speed,fuel):\n",
    "        super().__init__(speed,fuel)\n",
    "        self.wheels = 4\n",
    "    def move(self):\n",
    "        print(f\"Car is moving at {self.speed} km/h on the road with {self.fuel}\")\n",
    "class Bike(Vehicle):\n",
    "    def __init__(self,speed,fuel):\n",
    "        super().__init__(speed,fuel)\n",
    "        self.wings = 2\n",
    "    def move(self):\n",
    "        print(f\"Bike is Travelling at {self.speed} km/h in the road\")\n",
    "        \n",
    "bike = Bike(50,'Petrol')\n",
    "car = Car(120,'Diesel')\n",
    "\n",
    "bike.move()\n",
    "car.move()"
   ]
  },
  {
   "cell_type": "markdown",
   "id": "65ecfd20",
   "metadata": {},
   "source": [
    "Question : 7\n",
    "    \n",
    "Create a program in python to demonstrate Polymorphism.\n",
    "1. Make use of private and protected members using python name mangling techniques"
   ]
  },
  {
   "cell_type": "code",
   "execution_count": 132,
   "id": "65facedf",
   "metadata": {},
   "outputs": [
    {
     "name": "stdout",
     "output_type": "stream",
     "text": [
      "This is company INIT Block\n",
      "Please Enter Name,salary and project details\n",
      "Welcome to TCS Family Phani, You have been allocated to Project with a salary of 40000\n",
      "Welcome to INFY Family Phani\n"
     ]
    }
   ],
   "source": [
    "class Company:\n",
    "    def __init__(self):\n",
    "        print('This is company INIT Block')\n",
    "    def display(self):\n",
    "        print('Please Enter Name,salary and project details')\n",
    "\n",
    "class TCS(Company):\n",
    "    def __init__(self,name,project,salary):\n",
    "        self.name=name\n",
    "        self._project=project\n",
    "        self.__salary=salary\n",
    "    def display(self):\n",
    "        print('Welcome to TCS Family '+self.name+', You have been allocated to '+self._project+' with a salary of '+str(self.__salary))\n",
    "        \n",
    "class INFY(Company):\n",
    "    def __init__(self,name):\n",
    "        self.name=name\n",
    "    def display(self):\n",
    "        print('Welcome to INFY Family '+self.name)\n",
    "        \n",
    "\n",
    "emp=Company()\n",
    "emp.display()\n",
    "emp1=TCS('Phani','Project',40000)\n",
    "emp1.display()\n",
    "#emp1.__salary() #Cannot individually Print salary variable as it is private\n",
    "emp2=INFY('Phani')\n",
    "emp2.display()"
   ]
  },
  {
   "cell_type": "markdown",
   "id": "413fb7bb",
   "metadata": {},
   "source": [
    "Question : 8\n",
    "    \n",
    "Given a list of 50 natural numbers from 1-50. Create a function that will take every element\n",
    "from the list and return the square of each element. Use the python map and filter methods to\n",
    "implement the function on the given list."
   ]
  },
  {
   "cell_type": "code",
   "execution_count": 92,
   "id": "7c811cbe",
   "metadata": {},
   "outputs": [
    {
     "name": "stdout",
     "output_type": "stream",
     "text": [
      "[1, 4, 9, 16, 25, 36, 49, 64, 81, 100, 121, 144, 169, 196, 225, 256, 289, 324, 361, 400, 441, 484, 529, 576, 625, 676, 729, 784, 841, 900, 961, 1024, 1089, 1156, 1225, 1296, 1369, 1444, 1521, 1600, 1681, 1764, 1849, 1936, 2025, 2116, 2209, 2304, 2401]\n",
      "[1, 4, 9, 16, 25, 36, 49, 64, 81, 100, 121, 144, 169, 196, 225, 256, 289, 324, 361, 400, 441, 484, 529, 576, 625, 676, 729, 784, 841, 900, 961, 1024, 1089, 1156, 1225, 1296, 1369, 1444, 1521, 1600, 1681, 1764, 1849, 1936, 2025, 2116, 2209, 2304, 2401]\n"
     ]
    }
   ],
   "source": [
    "#using lambda\n",
    "\n",
    "lst=lambda n:n*n\n",
    "lst_1=[]\n",
    "for i in range(1,50):\n",
    "    lst_1.append(lst(i))\n",
    "print(lst_1)\n",
    "\n",
    "#using Map\n",
    "\n",
    "def Map_Sqrt(n):\n",
    "    return n*n\n",
    "\n",
    "input=range(1,50)\n",
    "output=map(Map_Sqrt,input)\n",
    "print(list(output))"
   ]
  },
  {
   "cell_type": "markdown",
   "id": "6e0926e8",
   "metadata": {},
   "source": [
    "Question : 9\n",
    "\n",
    "Create a class, Triangle. Its init() method should take self, angle1, angle2, and angle3 as\n",
    "arguments."
   ]
  },
  {
   "cell_type": "code",
   "execution_count": 63,
   "id": "bb508f9d",
   "metadata": {},
   "outputs": [
    {
     "name": "stdout",
     "output_type": "stream",
     "text": [
      "Inside a triangle\n",
      "60 45 55\n"
     ]
    },
    {
     "data": {
      "text/plain": [
       "160"
      ]
     },
     "execution_count": 63,
     "metadata": {},
     "output_type": "execute_result"
    }
   ],
   "source": [
    "class Triangle:\n",
    "    def __init__(self,angle1,angle2,angle3):\n",
    "        print('Inside a triangle')\n",
    "        self.angle1=angle1\n",
    "        self.angle2=angle2\n",
    "        self.angle3=angle3\n",
    "    def display(self):\n",
    "        print(self.angle1,self.angle2,self.angle3)\n",
    "        return self.angle1+self.angle2+self.angle3\n",
    "\n",
    "obj=Triangle(60,45,55)\n",
    "obj.display()"
   ]
  },
  {
   "cell_type": "markdown",
   "id": "12a44932",
   "metadata": {},
   "source": [
    "Question : 10\n",
    "    \n",
    "Create a class variable named number_of_sides and set it equal to 3."
   ]
  },
  {
   "cell_type": "code",
   "execution_count": 60,
   "id": "d5fe78e9",
   "metadata": {},
   "outputs": [
    {
     "data": {
      "text/plain": [
       "3"
      ]
     },
     "execution_count": 60,
     "metadata": {},
     "output_type": "execute_result"
    }
   ],
   "source": [
    "class Side:\n",
    "    number_of_sides=3\n",
    "    def __init__(self):\n",
    "        pass\n",
    "obj1=Side()\n",
    "obj1.number_of_sides"
   ]
  },
  {
   "cell_type": "markdown",
   "id": "0f2cefc7",
   "metadata": {},
   "source": [
    "Question : 11\n",
    "\n",
    "Create a method named check_angles. The sum of a triangle's three angles should return\n",
    "True if the sum is equal to 180, and False otherwise. The method should print whether the\n",
    "angles belong to a triangle or not.\n",
    "11.1 Write methods to verify if the triangle is an acute triangle or obtuse triangle.\n",
    "11.2 Create an instance of the triangle class and call all the defined methods.\n",
    "11.3 Create three child classes of triangle class - isosceles_triangle, right_triangle and\n",
    "equilateral_triangle.\n",
    "11.4 Define methods"
   ]
  },
  {
   "cell_type": "code",
   "execution_count": 59,
   "id": "08cd1683",
   "metadata": {},
   "outputs": [
    {
     "name": "stdout",
     "output_type": "stream",
     "text": [
      "Sum of angles in a triangle is less than 180\n",
      "Type of Triangle is Acute\n",
      "Sum of angles in a triangle is less than 180\n",
      "Type of Triangle is Acute\n",
      "Given angles belongs to an isosceles triangle\n",
      "Sum of Triangle is equal to 180\n",
      "Type og Triangle is Obtuse\n",
      "Given angles belongs to an Right angled triangle\n",
      "Sum of Triangle is equal to 180\n",
      "Type of Triangle is Acute\n",
      "Given one belongs to a Equilateral Triangle\n",
      "Sum of Triangle is equal to 180\n",
      "Type of Triangle is Acute\n",
      "Given angles not belongs to an isosceles triangle\n",
      "Sum of Triangle is equal to 180\n",
      "Type og Triangle is Obtuse\n",
      "Given angles not belongs to an right angled triangle\n",
      "Sum of angles in a triangle is greater than 180\n",
      "Type of Triangle is Acute\n",
      "Given one not belongs to a Equilateral Triangle\n"
     ]
    }
   ],
   "source": [
    "class Triangle:\n",
    "    def __init__(self, a, b, c):\n",
    "        self.a, self.b, self.c = a, b, c\n",
    "    \n",
    "    def type_of_triangle(self):\n",
    "        if self.a < 90 and self.b < 90 and self.c < 90:\n",
    "            return \"Type of Triangle is Acute\"\n",
    "        else:\n",
    "            return \"Type og Triangle is Obtuse\"\n",
    "    \n",
    "    def is_Sum_Measure(self):\n",
    "        if sum((self.a, self.b, self.c)) == 180:\n",
    "            return \"Sum of Triangle is equal to 180\"\n",
    "        elif sum((self.a, self.b, self.c)) > 180:\n",
    "            return \"Sum of angles in a triangle is greater than 180\"\n",
    "        else:\n",
    "            return \"Sum of angles in a triangle is less than 180\"\n",
    "\n",
    "\n",
    "class Isosceles_triangle(Triangle):\n",
    "    def __init__(self, a, b, c):\n",
    "        super().__init__(a, b, c)\n",
    "    \n",
    "    def check(self):\n",
    "        if self.a == self.b or self.b == self.c or self.c == self.a:\n",
    "            return \"Given angles belongs to an isosceles triangle\"\n",
    "        else:\n",
    "            return \"Given angles not belongs to an isosceles triangle\"\n",
    "\n",
    "\n",
    "class Right_triangle(Triangle):\n",
    "    def __init__(self, a, b, c):\n",
    "        super().__init__(a, b, c)\n",
    "    \n",
    "    def check(self):\n",
    "        if self.a == 90 or self.b == 90 or self.c == 90:\n",
    "            return \"Given angles belongs to an Right angled triangle\"\n",
    "        else:\n",
    "            return \"Given angles not belongs to an right angled triangle\"\n",
    "\n",
    "\n",
    "class Equilateral_triangle(Triangle):\n",
    "    def __init__(self, a, b, c):\n",
    "        super().__init__(a, b, c)\n",
    "    \n",
    "    def check(self):\n",
    "        if self.a == self.b == self.c:\n",
    "            return \"Given one belongs to a Equilateral Triangle\"\n",
    "        else:\n",
    "            return \"Given one not belongs to a Equilateral Triangle\"\n",
    "\n",
    "\n",
    "obj1=Triangle(50,40,30)\n",
    "print(obj1.is_Sum_Measure()) #Whatever value passed in the return statement will come, if we want boolean then pass true or false for it\n",
    "print(obj1.type_of_triangle())\n",
    "obj2=Isosceles_triangle(50,60,50)\n",
    "print(obj2.is_Sum_Measure())\n",
    "print(obj2.type_of_triangle())\n",
    "print(obj2.check())\n",
    "obj3=Right_triangle(90,40,50)\n",
    "print(obj3.is_Sum_Measure())\n",
    "print(obj3.type_of_triangle())\n",
    "print(obj3.check())\n",
    "obj4=Equilateral_triangle(60,60,60)\n",
    "print(obj4.is_Sum_Measure())\n",
    "print(obj4.type_of_triangle())\n",
    "print(obj4.check())\n",
    "obj5=Isosceles_triangle(70,60,50)\n",
    "print(obj5.is_Sum_Measure())\n",
    "print(obj5.type_of_triangle())\n",
    "print(obj5.check())\n",
    "obj6=Right_triangle(95,35,50)\n",
    "print(obj6.is_Sum_Measure())\n",
    "print(obj6.type_of_triangle())\n",
    "print(obj6.check())\n",
    "obj7=Equilateral_triangle(65,75,60)\n",
    "print(obj7.is_Sum_Measure())\n",
    "print(obj7.type_of_triangle())\n",
    "print(obj7.check())\n"
   ]
  },
  {
   "cell_type": "markdown",
   "id": "2a839e71",
   "metadata": {},
   "source": [
    "Question : 12\n",
    "    \n",
    "Create a class isosceles_right_triangle which inherits from isosceles_triangle and right_triangle.\n",
    "12.1 Define methods which check for their properties."
   ]
  },
  {
   "cell_type": "code",
   "execution_count": 35,
   "id": "b8e7b27c",
   "metadata": {
    "scrolled": true
   },
   "outputs": [
    {
     "name": "stdout",
     "output_type": "stream",
     "text": [
      "We are inside isosceles right triangle\n"
     ]
    }
   ],
   "source": [
    "class isosceles_triangle:\n",
    "    def __init__(self):\n",
    "        print('This is an iscosceles triangle')\n",
    "        self.a=3\n",
    "        self.b=4\n",
    "    def iso_triangle(self):\n",
    "        c=(self.a*self.b)/2\n",
    "        return c\n",
    "class right_traiangle:\n",
    "    def __init__(self):\n",
    "        print('This is a Right Angle Triangle')\n",
    "        self.a=3\n",
    "        self.b=4\n",
    "    def rig_triangle(self):\n",
    "        c= (self.a*self.a+self.b*self.b)*0.5\n",
    "        return c\n",
    "class isosceles_right_triangle(isosceles_triangle,right_traiangle): #Multiple Inheritence\n",
    "    print('We are inside isosceles right triangle')\n",
    "    pass"
   ]
  },
  {
   "cell_type": "code",
   "execution_count": 38,
   "id": "f7ed9c11",
   "metadata": {
    "scrolled": true
   },
   "outputs": [
    {
     "name": "stdout",
     "output_type": "stream",
     "text": [
      "This is an iscosceles triangle\n",
      "6.0\n",
      "12.5\n"
     ]
    }
   ],
   "source": [
    "obj1=isosceles_right_triangle() # Creating an Object for isosceles right triangle\n",
    "print(obj1.iso_triangle()) #Multiple inheritence - calling the isolated triangle method with object created\n",
    "print(obj1.rig_triangle()) #Multiple inheritence - calling the Right triangle method with object created"
   ]
  },
  {
   "cell_type": "code",
   "execution_count": null,
   "id": "94f4b91b",
   "metadata": {},
   "outputs": [],
   "source": []
  }
 ],
 "metadata": {
  "kernelspec": {
   "display_name": "Python 3 (ipykernel)",
   "language": "python",
   "name": "python3"
  },
  "language_info": {
   "codemirror_mode": {
    "name": "ipython",
    "version": 3
   },
   "file_extension": ".py",
   "mimetype": "text/x-python",
   "name": "python",
   "nbconvert_exporter": "python",
   "pygments_lexer": "ipython3",
   "version": "3.10.9"
  }
 },
 "nbformat": 4,
 "nbformat_minor": 5
}
